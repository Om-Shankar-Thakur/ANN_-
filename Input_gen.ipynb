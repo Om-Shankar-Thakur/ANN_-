{
 "cells": [
  {
   "cell_type": "code",
   "execution_count": 14,
   "metadata": {},
   "outputs": [],
   "source": [
    "import os\n",
    "import pandas as pd\n",
    "import numpy\n"
   ]
  },
  {
   "cell_type": "code",
   "execution_count": 15,
   "metadata": {},
   "outputs": [
    {
     "data": {
      "text/plain": [
       "['BIHAR.csv',\n",
       " 'COASTAL ANDHRA PRADESH.csv',\n",
       " 'COASTAL KARNATAKA.csv',\n",
       " 'GANGETIC WEST BENGAL.csv',\n",
       " 'GUJARAT REGION.csv',\n",
       " 'HARYANA DELHI & CHANDIGARH.csv',\n",
       " 'JHARKHAND.csv',\n",
       " 'KONKAN & GOA.csv',\n",
       " 'MADHYA MAHARASHTRA.csv',\n",
       " 'ORISSA.csv',\n",
       " 'PUNJAB.csv',\n",
       " 'WEST MADHYA PRADESH.csv']"
      ]
     },
     "execution_count": 15,
     "metadata": {},
     "output_type": "execute_result"
    }
   ],
   "source": [
    "os.listdir('Data')"
   ]
  },
  {
   "cell_type": "code",
   "execution_count": 16,
   "metadata": {},
   "outputs": [],
   "source": [
    "import scipy \n",
    "from scipy.stats import spearmanr\n",
    "\n",
    "from sklearn.ensemble import RandomForestClassifier\n",
    "from sklearn.preprocessing import scale\n",
    "from sklearn.linear_model import LogisticRegression\n",
    "from sklearn.model_selection import train_test_split\n",
    "from sklearn import preprocessing"
   ]
  },
  {
   "cell_type": "code",
   "execution_count": 17,
   "metadata": {},
   "outputs": [
    {
     "name": "stdout",
     "output_type": "stream",
     "text": [
      "COASTAL ANDHRA PRADESH\n"
     ]
    }
   ],
   "source": [
    "l = os.listdir('Data')[1][:-4]\n",
    "print(l)"
   ]
  },
  {
   "cell_type": "code",
   "execution_count": 18,
   "metadata": {},
   "outputs": [],
   "source": [
    "for f in os.listdir('Data'):\n",
    "    x = pd.read_csv('Data/'+f)\n",
    "    columns_to_drop = [\"Unnamed: 0\"]\n",
    "    data_clean = x.drop(columns_to_drop,axis = 1)\n",
    "    x = data_clean\n",
    "    y1=list(x[\"YEAR\"])\n",
    "    x1=list(x[\"Jun-Sep\"])\n",
    "    z1=list(x[\"JUN\"])\n",
    "    w1=list(x[\"MAY\"])\n",
    "    flood=[]\n",
    "    june=[]\n",
    "    sub=[]\n",
    "    #APPROAXIMATELY FINDING THE RAINFALL DATA FOR 10 DAYS FOR THE MONTH OF JUNE IN EVERY YEAR FROM 1901 TO 2015\n",
    "    for k in range(0,len(x1)):\n",
    "        june.append(z1[k]/3)\n",
    "\n",
    "    #FINDING THE INCREASE IN RAINFALL FROM THE MONTH OF MAY TO THE MONTH OF JUNE IN EVERY YEAR FROM 1901 TO 2015\n",
    "    for k in range(0,len(x1)):\n",
    "        sub.append(abs(w1[k]-z1[k]))\n",
    "\n",
    "\n",
    "    #CREATING A NEW COLOUMN WITH BINARY CLASSIFICATION DEPENDING IF THAT YEAR HAD FLOODED OR NOT, USING RAINFALL OF THAT YEAR AS THRESHOLD\n",
    "    #flood,rain,heavy rain\n",
    "    for i in range(0,len(x1)):\n",
    "        if x1[i]>1500 or june[i] > 100 or sub[i] > 250:\n",
    "            flood.append('1')\n",
    "        elif x1[i] < 100 or june[i] < 5 or sub[i] < 10:\n",
    "            flood.append('0')\n",
    "        else:\n",
    "            flood.append('-1')\n",
    "\n",
    "\n",
    "\n",
    "\n",
    "\n",
    "    df = pd.DataFrame({'flood':flood})\n",
    "    df1=pd.DataFrame({'per_10_days':june})\n",
    "    columns = ['YEAR','Mar-May', 'avgjune', 'sub']\n",
    "    x[\"flood\"]=flood\n",
    "    x[\"avgjune\"]=june\n",
    "    x[\"sub\"]=sub\n",
    "    y = pd.DataFrame(x, columns=columns)\n",
    "    #SAVING THE NEW CSV FILE WITH THE NEW COLOUMNS\n",
    "    y.to_csv(f[:-4]+\"_input\"+\".csv\")\n",
    "    \n",
    "    \n",
    "    "
   ]
  },
  {
   "cell_type": "code",
   "execution_count": 19,
   "metadata": {},
   "outputs": [],
   "source": [
    "x = pd.read_csv('test/BIHAR_input.csv')"
   ]
  },
  {
   "cell_type": "code",
   "execution_count": 49,
   "metadata": {},
   "outputs": [
    {
     "data": {
      "text/plain": [
       "11.299999999999995"
      ]
     },
     "execution_count": 49,
     "metadata": {},
     "output_type": "execute_result"
    }
   ],
   "source": [
    "float(x[x['YEAR'] == 2014]['sub'])"
   ]
  },
  {
   "cell_type": "code",
   "execution_count": 70,
   "metadata": {},
   "outputs": [],
   "source": [
    "a, b, c = float(x[x['YEAR'] == 1905]['Mar-May']), float(x[x['YEAR'] == 1905]['avgjune']),float(x[x['YEAR'] == 1905]['sub'])"
   ]
  },
  {
   "cell_type": "code",
   "execution_count": 71,
   "metadata": {},
   "outputs": [
    {
     "name": "stderr",
     "output_type": "stream",
     "text": [
      "d:\\mltensor\\lib\\site-packages\\sklearn\\base.py:306: UserWarning: Trying to unpickle estimator LogisticRegression from version 0.21.2 when using version 0.21.3. This might lead to breaking code or invalid results. Use at your own risk.\n",
      "  UserWarning)\n"
     ]
    }
   ],
   "source": [
    "import pickle\n",
    "p_in = open(\"trained/KONKAN & GOA.pkl\",\"rb\")\n",
    "model = pickle.load(p_in)\n",
    "\n"
   ]
  },
  {
   "cell_type": "code",
   "execution_count": 72,
   "metadata": {},
   "outputs": [
    {
     "name": "stdout",
     "output_type": "stream",
     "text": [
      "131.4 16.833333333333332 27.0\n"
     ]
    }
   ],
   "source": [
    "l = [[a, b, c]]\n",
    "print(a, b, c)"
   ]
  },
  {
   "cell_type": "code",
   "execution_count": 73,
   "metadata": {},
   "outputs": [],
   "source": [
    "m = model.predict(l)"
   ]
  },
  {
   "cell_type": "code",
   "execution_count": 74,
   "metadata": {},
   "outputs": [
    {
     "data": {
      "text/plain": [
       "'0'"
      ]
     },
     "execution_count": 74,
     "metadata": {},
     "output_type": "execute_result"
    }
   ],
   "source": [
    "m[0]"
   ]
  },
  {
   "cell_type": "code",
   "execution_count": null,
   "metadata": {},
   "outputs": [],
   "source": []
  }
 ],
 "metadata": {
  "kernelspec": {
   "display_name": "Python 3",
   "language": "python",
   "name": "python3"
  },
  "language_info": {
   "codemirror_mode": {
    "name": "ipython",
    "version": 3
   },
   "file_extension": ".py",
   "mimetype": "text/x-python",
   "name": "python",
   "nbconvert_exporter": "python",
   "pygments_lexer": "ipython3",
   "version": "3.6.7"
  }
 },
 "nbformat": 4,
 "nbformat_minor": 2
}
